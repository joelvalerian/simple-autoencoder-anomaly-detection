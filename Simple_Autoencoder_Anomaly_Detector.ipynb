{
  "nbformat": 4,
  "nbformat_minor": 0,
  "metadata": {
    "colab": {
      "name": "Simple Autoencoder Anomaly Detector.ipynb",
      "provenance": [],
      "collapsed_sections": [],
      "mount_file_id": "1z7VnRVpQZalnrQQV8S19ssMI_0CcgiJ7",
      "authorship_tag": "ABX9TyMjpvPZLpBLlFMnRTvnk6I0",
      "include_colab_link": true
    },
    "kernelspec": {
      "name": "python3",
      "display_name": "Python 3"
    },
    "language_info": {
      "name": "python"
    },
    "accelerator": "GPU"
  },
  "cells": [
    {
      "cell_type": "markdown",
      "metadata": {
        "id": "view-in-github",
        "colab_type": "text"
      },
      "source": [
        "<a href=\"https://colab.research.google.com/github/joelvalerian/simple-autoencoder-anomaly-detection/blob/main/Simple_Autoencoder_Anomaly_Detector.ipynb\" target=\"_parent\"><img src=\"https://colab.research.google.com/assets/colab-badge.svg\" alt=\"Open In Colab\"/></a>"
      ]
    },
    {
      "cell_type": "markdown",
      "source": [
        "# Simple Autoencoder Anomaly Detector\n",
        "---\n",
        "### Written by Joel Valerian\n",
        "---\n",
        "This is an unsupervised deep neural network trained to detect anomalies. The architecture of the neural network is an [Autoencoder](https://en.wikipedia.org/wiki/Autoencoder). This code is use for an undergraduate thesis titled \"Detection of Suboptimal IMRT Treatment Plan using Machine Learning on Radiomics Features of Dose Distribution for Lung Cancers\" which is part of a [KBRT](https://doi.org/10.1186/s13014-015-0416-6) research in Department of Physics in University of Indonesia. The [radiomics](https://pyradiomics.readthedocs.io/en/latest/) of dose distribution is used as both the input and output of the model. The data extraction process (radiomics calculation and converting DICOM to CSV) is done outside of this code. The raw data is not provided because it's a real medical record that is supposed to be private and for research purpose only. This model is trained on a very limited dataset (34 rows) but can be used for more.\n",
        "\n",
        "Disclaimer: The result of the undergraduate thesis research is a [null result](https://en.wikipedia.org/wiki/Null_result), most likely due to the limited data set or a dirty input (radiomics features). Nevertheless, the result is still useful for further ML research in KBRT."
      ],
      "metadata": {
        "id": "iX_fqo3WO_ad"
      }
    },
    {
      "cell_type": "code",
      "metadata": {
        "id": "RPBKELnrKGxS"
      },
      "source": [
        "# Import required libraries\n",
        "import torch\n",
        "import torch.nn as nn\n",
        "import numpy as np\n",
        "from sklearn.preprocessing import StandardScaler\n",
        "from sklearn.model_selection import train_test_split\n",
        "import matplotlib.pyplot as plt\n",
        "import csv\n",
        "import pandas as pd\n",
        "import time"
      ],
      "execution_count": 17,
      "outputs": []
    },
    {
      "cell_type": "code",
      "metadata": {
        "colab": {
          "base_uri": "https://localhost:8080/"
        },
        "id": "3MRQv0GQKJKi",
        "outputId": "a0001f4c-102d-41f5-a7fb-0088674753fe"
      },
      "source": [
        "# System configuration\n",
        "filepath = '/content/drive/MyDrive/Universitas Indonesia/Akademik/Skripsi/Data/'\n",
        "random_state = 1\n",
        "torch.manual_seed(0)\n",
        "device = torch.device('cuda' if torch.cuda.is_available() else 'cpu')\n",
        "print('Device used is', device)"
      ],
      "execution_count": 18,
      "outputs": [
        {
          "output_type": "stream",
          "name": "stdout",
          "text": [
            "Device used is cuda\n"
          ]
        }
      ]
    },
    {
      "cell_type": "code",
      "metadata": {
        "id": "O3Pl1oaSL077"
      },
      "source": [
        "# Import data\n",
        "# Options 1 (normal data)\n",
        "data_numpy = pd.read_csv(filepath + 'data_radiomics_selected.csv').to_numpy().astype(np.float32)\n",
        "anomali_numpy = pd.read_csv(filepath + 'anomali_radiomics_selected.csv').to_numpy().astype(np.float32)\n",
        "\n",
        "# Options 2 (refined data)\n",
        "# data_numpy = pd.read_csv(filepath + 'data_radiomics_selected.csv', skiprows=[13, 23, 31]).to_numpy().astype(np.float32)\n",
        "# anomali_numpy = pd.read_csv(filepath + 'anomali_radiomics_selected.csv', skiprows=[1, 5, 6, 8]).to_numpy().astype(np.float32)\n",
        "\n",
        "# Options 3 (filtered data)\n",
        "# columnname = ['10Percentile_PTV', '10Percentile_PTV', '90Percentile_LungL', '90Percentile_PTV', 'InterquartileRange_PTV', 'Kurtosis_LungR', 'Maximum_Body', 'Maximum_LungL', 'Maximum_PTV', 'MeanAbsoluteDeviation_PTV', 'Mean_PTV', 'Median_PTV', 'Range_Body', 'Range_LungL', 'Range_PTV', 'RobustMeanAbsoluteDeviation_PTV', 'RootMeanSquared_PTV', 'Skewness_Heart', 'Variance_PTV', 'GrayLevelNonUniformity_Heart']\n",
        "# data_numpy = pd.read_csv(filepath + 'data_radiomics_selected.csv', usecols=columnname).to_numpy().astype(np.float32)\n",
        "# anomali_numpy = pd.read_csv(filepath + 'anomali_radiomics_selected.csv', usecols=columnname).to_numpy().astype(np.float32)"
      ],
      "execution_count": 19,
      "outputs": []
    },
    {
      "cell_type": "code",
      "source": [
        "# Scale data\n",
        "data_scaler = StandardScaler()\n",
        "data_numpy = data_scaler.fit_transform(data_numpy)\n",
        "anomali_numpy = data_scaler.fit_transform(anomali_numpy)"
      ],
      "metadata": {
        "id": "VQ4a8OdeOBUQ"
      },
      "execution_count": 20,
      "outputs": []
    },
    {
      "cell_type": "code",
      "source": [
        "# Split data\n",
        "# Options 1 (normal splitting)\n",
        "training_data_numpy, testing_data_numpy = train_test_split(data_numpy, test_size=0.1, random_state=random_state)\n",
        "\n",
        "# Options 2 (splitting for non-normal data)\n",
        "# a =  [3, 13, 18, 25]\n",
        "# b = [i for i in np.arange(0, 31, 1) if i not in a]\n",
        "# training_data_numpy = data_numpy[b]\n",
        "# testing_data_numpy = data_numpy[a]"
      ],
      "metadata": {
        "id": "weVNjUVbOXOg"
      },
      "execution_count": 21,
      "outputs": []
    },
    {
      "cell_type": "code",
      "source": [
        "# Prepare data (convert to PyTorch tensor)\n",
        "training_data = torch.from_numpy(training_data_numpy).to(device)\n",
        "testing_data = torch.from_numpy(testing_data_numpy).to(device)\n",
        "data = torch.from_numpy(data_numpy).to(device)\n",
        "anomali = torch.from_numpy(anomali_numpy).to(device)"
      ],
      "metadata": {
        "id": "TuDai1yKObRg"
      },
      "execution_count": 22,
      "outputs": []
    },
    {
      "cell_type": "code",
      "source": [
        "# Data information\n",
        "# Extract data shape\n",
        "training_data_n_samples, training_data_n_features = training_data.shape\n",
        "testing_data_n_samples, testing_data_n_features = testing_data.shape\n",
        "data_n_samples, data_n_features = data.shape\n",
        "anomali_n_samples, anomali_n_features = anomali.shape"
      ],
      "metadata": {
        "id": "CAEDdlSvOw5j"
      },
      "execution_count": 23,
      "outputs": []
    },
    {
      "cell_type": "code",
      "source": [
        "# Check data shape\n",
        "print(training_data.shape)\n",
        "print(testing_data.shape)\n",
        "print(data.shape)\n",
        "print(anomali.shape)"
      ],
      "metadata": {
        "colab": {
          "base_uri": "https://localhost:8080/"
        },
        "id": "EOu2AtWeO4pR",
        "outputId": "d27cd64c-f8f2-4760-bc37-0aa23dfed98f"
      },
      "execution_count": 24,
      "outputs": [
        {
          "output_type": "stream",
          "name": "stdout",
          "text": [
            "torch.Size([30, 161])\n",
            "torch.Size([4, 161])\n",
            "torch.Size([34, 161])\n",
            "torch.Size([10, 161])\n"
          ]
        }
      ]
    },
    {
      "cell_type": "code",
      "metadata": {
        "id": "GQ02S9nSM7oh"
      },
      "source": [
        "# Define hyperparameter\n",
        "learning_rate = 0.2\n",
        "num_epochs = 1250\n",
        "hl_1 = 150\n",
        "hl_2 = 50\n",
        "hl_3 = 17\n",
        "input_size = data_n_features\n",
        "output_size = data_n_features"
      ],
      "execution_count": 25,
      "outputs": []
    },
    {
      "cell_type": "code",
      "metadata": {
        "id": "ecJO8iJLNWoz"
      },
      "source": [
        "# Define model specification\n",
        "class Autoencoder(nn.Module):\n",
        "  def __init__(self, input_dim, output_dim, hl_1, hl_2, hl_3):\n",
        "    super(Autoencoder, self).__init__()\n",
        "    self.fc1 = nn.Linear(input_dim, hl_1)\n",
        "    self.fc2 = nn.Linear(hl_1, hl_2)\n",
        "    self.fc3 = nn.Linear(hl_2, hl_3)\n",
        "    self.fc4 = nn.Linear(hl_3, hl_2)\n",
        "    self.fc5 = nn.Linear(hl_2, hl_1)\n",
        "    self.fc6 = nn.Linear(hl_1, output_dim)\n",
        "  \n",
        "  def encode(self, x):\n",
        "    x = torch.tanh(self.fc1(x))\n",
        "    x = torch.tanh(self.fc2(x))\n",
        "    x = torch.tanh(self.fc3(x))\n",
        "    return x\n",
        "\n",
        "  def decode(self, x):\n",
        "    x = torch.tanh(self.fc4(x))\n",
        "    x = torch.tanh(self.fc5(x))\n",
        "    x = self.fc6(x)\n",
        "    return x\n",
        "\n",
        "  def forward(self, x):\n",
        "    x = self.encode(x)\n",
        "    x = self.decode(x)\n",
        "    return x"
      ],
      "execution_count": 26,
      "outputs": []
    },
    {
      "cell_type": "code",
      "metadata": {
        "id": "WlQnjvbnNZmW"
      },
      "source": [
        "# Load model\n",
        "model = Autoencoder(input_size, output_size, hl_1, hl_2, hl_3).to(device)\n",
        "criterion = nn.MSELoss()\n",
        "optimizer = torch.optim.SGD(model.parameters(), lr=learning_rate)"
      ],
      "execution_count": 27,
      "outputs": []
    },
    {
      "cell_type": "code",
      "metadata": {
        "colab": {
          "base_uri": "https://localhost:8080/"
        },
        "id": "WvWdHBocNcOb",
        "outputId": "ba62b4f5-b13f-4416-a8e6-5f75920a9722"
      },
      "source": [
        "# Train model\n",
        "start = time.process_time() \n",
        "\n",
        "loss_list = []  # Reconstruction error of training data (data used in training)\n",
        "err_list = []   # Reconstruction error of testing data (data used in testing)\n",
        "miss_list = []  # Reconstruction error of anomaly data (data that is supposed to be detected as anomaly)\n",
        "\n",
        "for epoch in range(num_epochs+1):\n",
        "  # Reset gradients\n",
        "  optimizer.zero_grad()\n",
        "  \n",
        "  # Forward pass\n",
        "  data_pred = model(training_data)\n",
        "\n",
        "  # Calculate loss\n",
        "  loss = criterion(data_pred, training_data)\n",
        "\n",
        "  # Backward pass\n",
        "  loss.backward()\n",
        "\n",
        "  # Update weights\n",
        "  optimizer.step()\n",
        "\n",
        "  # Check accuracies\n",
        "  result = []\n",
        "  with torch.no_grad():\n",
        "    test_pred = model(testing_data)\n",
        "    err = criterion(test_pred, testing_data)\n",
        "    anom_pred = model(anomali)\n",
        "    miss = criterion(anom_pred, anomali)\n",
        "  loss_list.append(loss.item())\n",
        "  err_list.append(err.item())\n",
        "  miss_list.append(miss.item())\n",
        "\n",
        "  # Print training epochs\n",
        "  if epoch % int(num_epochs/10) == 0:\n",
        "    print(f'Epoch {epoch} -> loss = {loss:.6f} error = {err:.6f} miss = {miss:.6f}')\n",
        "\n",
        "end = time.process_time()\n",
        "print(f'{end-start:.2f} second(s)')"
      ],
      "execution_count": 28,
      "outputs": [
        {
          "output_type": "stream",
          "name": "stdout",
          "text": [
            "Epoch 0 -> loss = 1.023228 error = 0.905110 miss = 1.008615\n",
            "Epoch 125 -> loss = 0.648428 error = 0.571982 miss = 0.670674\n",
            "Epoch 250 -> loss = 0.426683 error = 0.462958 miss = 0.505099\n",
            "Epoch 375 -> loss = 0.347715 error = 0.472961 miss = 0.479665\n",
            "Epoch 500 -> loss = 0.289747 error = 0.477245 miss = 0.453988\n",
            "Epoch 625 -> loss = 0.256509 error = 0.488333 miss = 0.441441\n",
            "Epoch 750 -> loss = 0.226574 error = 0.501229 miss = 0.411050\n",
            "Epoch 875 -> loss = 0.194725 error = 0.489598 miss = 0.387832\n",
            "Epoch 1000 -> loss = 0.169538 error = 0.476831 miss = 0.380088\n",
            "Epoch 1125 -> loss = 0.146315 error = 0.458174 miss = 0.375645\n",
            "Epoch 1250 -> loss = 0.124916 error = 0.446518 miss = 0.368911\n",
            "4.03 second(s)\n"
          ]
        }
      ]
    },
    {
      "cell_type": "code",
      "metadata": {
        "id": "NWvlvMPhNhC-",
        "colab": {
          "base_uri": "https://localhost:8080/",
          "height": 573
        },
        "outputId": "99e08126-a55b-404c-b696-5eb0557813da"
      },
      "source": [
        "# Plot loss, error, and miss\n",
        "fig1, ax1 = plt.subplots()\n",
        "ax1.set_title('Training Curves')\n",
        "ax1.plot(loss_list, 'b', label='Loss')\n",
        "ax1.plot(err_list, 'g', label='Error')\n",
        "ax1.plot(miss_list, 'r', label='Miss')\n",
        "# ax1.set_yscale('log') # Optional\n",
        "ax1.set_xlabel('Epoch')\n",
        "ax1.set_ylabel('Mean Squared Error')\n",
        "ax1.legend()\n",
        "#ax1.set_xlim(0, 5000) # Optional\n",
        "ax1.set_ylim(0, 1.2) # Optional\n",
        "fig1.savefig('kurva latihan.png', dpi=1200)\n",
        "plt.show(fig1)\n",
        "plt.close(fig1)\n",
        "\n",
        "# Reconstruction error for each data point\n",
        "data_err = []\n",
        "with torch.no_grad():\n",
        "  pred_data = model(data)\n",
        "  for i in range(len(data)):\n",
        "    error = criterion(pred_data[i], data[i])\n",
        "    data_err.append(error.item())\n",
        "\n",
        "anom_err = []\n",
        "with torch.no_grad():\n",
        "  pred_anom = model(anomali)\n",
        "  for i in range(len(anomali)):\n",
        "    error = criterion(pred_anom[i], anomali[i])\n",
        "    anom_err.append(error.item())\n",
        "\n",
        "# Plot reconstruction error\n",
        "fig2, ax2 = plt.subplots()\n",
        "\n",
        "# Create index for each data for coloring\n",
        "train_index = np.arange(0, data_n_samples, 1)\n",
        "test_index = []\n",
        "for n in range(len(testing_data_numpy[:,2])):\n",
        "  index = np.where(data_numpy[:,2] == testing_data_numpy[:,2][n])\n",
        "  test_index.append(index[0].item())\n",
        "train_index = [x for x in train_index if x not in test_index]\n",
        "anom_index = np.arange(data_n_samples, data_n_samples+anomali_n_samples, 1)\n",
        "train_err = [data_err[i] for i in train_index]\n",
        "test_err = [data_err[i] for i in test_index]\n",
        "\n",
        "# Create scatter plot\n",
        "ax2.scatter(train_index, train_err, c='blue', s=20, label='Training Data')\n",
        "ax2.scatter(test_index, test_err, c='green', s=20, label='Testing Data')\n",
        "ax2.scatter(anom_index, anom_err, c='red', s=20, label='Anomaly Data')\n",
        "mean = np.mean(data_err) #alternative without testing data: [data_err[i] for i in train_index]\n",
        "threshold = mean + 2*np.std(data_err) # Threshold is arbitrary but two standard deviation is considered good\n",
        "ax2.set_title('Reconstruction Error')\n",
        "ax2.axhline(threshold, color='r', label=f'Threshold ({threshold:.3f})')\n",
        "ax2.set_xlabel('Data Number')\n",
        "ax2.set_ylabel('Mean Squared Error')\n",
        "ax2.legend()\n",
        "ax2.set_ylim(0, 1.4)\n",
        "fig2.savefig('eror rekonstruksi.png', dpi=1200)\n",
        "plt.show(fig2)\n",
        "plt.close(fig2)"
      ],
      "execution_count": 29,
      "outputs": [
        {
          "output_type": "display_data",
          "data": {
            "image/png": "[encoded data removed]",
            "text/plain": [
              "<Figure size 432x288 with 1 Axes>"
            ]
          },
          "metadata": {
            "needs_background": "light"
          }
        },
        {
          "output_type": "display_data",
          "data": {
            "image/png": "[encoded data removed]",
            "text/plain": [
              "<Figure size 432x288 with 1 Axes>"
            ]
          },
          "metadata": {
            "needs_background": "light"
          }
        }
      ]
    },
    {
      "cell_type": "code",
      "metadata": {
        "id": "TCWZuZrQfsWi",
        "colab": {
          "base_uri": "https://localhost:8080/"
        },
        "outputId": "ab672f36-4a33-42c5-b9ce-7b626aaccf18"
      },
      "source": [
        "# Print testing data index\n",
        "print('Index data uji', test_index)"
      ],
      "execution_count": 30,
      "outputs": [
        {
          "output_type": "stream",
          "name": "stdout",
          "text": [
            "Index data uji [14, 19, 3, 27]\n"
          ]
        }
      ]
    },
    {
      "cell_type": "code",
      "metadata": {
        "id": "rZSfrOlASznz",
        "colab": {
          "base_uri": "https://localhost:8080/"
        },
        "outputId": "d0bbfabb-fe17-41f0-d366-85085cd62973"
      },
      "source": [
        "# Check for training data above threshold\n",
        "outlier = []\n",
        "for i in range(len(data_err)):\n",
        "  if data_err[i] > threshold and i not in test_index:\n",
        "      outlier.append(i)\n",
        "      print(f'No. {i}, Error: {data_err[i]}')\n",
        "if len(outlier) == 0:\n",
        "  print(\"No anomalies detected!\")"
      ],
      "execution_count": 31,
      "outputs": [
        {
          "output_type": "stream",
          "name": "stdout",
          "text": [
            "No anomalies detected!\n"
          ]
        }
      ]
    },
    {
      "cell_type": "code",
      "metadata": {
        "colab": {
          "base_uri": "https://localhost:8080/"
        },
        "id": "j_JM_O-7KrAB",
        "outputId": "14fa094c-6fd9-4939-ad3e-7cb065c54bd1"
      },
      "source": [
        "# Check for anomaly data above threshold\n",
        "print('Anomaly data above threshold', [index for index in range(len(anom_err)) if anom_err[index] > threshold])"
      ],
      "execution_count": 32,
      "outputs": [
        {
          "output_type": "stream",
          "name": "stdout",
          "text": [
            "Anomaly data above threshold [1, 4, 9]\n"
          ]
        }
      ]
    }
  ]
}