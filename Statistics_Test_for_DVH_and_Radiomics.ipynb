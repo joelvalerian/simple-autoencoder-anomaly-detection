{
  "nbformat": 4,
  "nbformat_minor": 0,
  "metadata": {
    "colab": {
      "name": "Statistics Test for DVH and Radiomics.ipynb",
      "provenance": [],
      "collapsed_sections": [],
      "mount_file_id": "1TDukOIlUJrHGDdBbnERemlBmQRNN-9i3",
      "authorship_tag": "ABX9TyOA4GbOC19sYdGykKk4CjVp",
      "include_colab_link": true
    },
    "kernelspec": {
      "name": "python3",
      "display_name": "Python 3"
    },
    "language_info": {
      "name": "python"
    }
  },
  "cells": [
    {
      "cell_type": "markdown",
      "metadata": {
        "id": "view-in-github",
        "colab_type": "text"
      },
      "source": [
        "<a href=\"https://colab.research.google.com/github/joelvalerian/simple-autoencoder-anomaly-detection/blob/main/Statistics_Test_for_DVH_and_Radiomics.ipynb\" target=\"_parent\"><img src=\"https://colab.research.google.com/assets/colab-badge.svg\" alt=\"Open In Colab\"/></a>"
      ]
    },
    {
      "cell_type": "code",
      "metadata": {
        "id": "6CJGdPzbywfn"
      },
      "source": [
        "# Import required libraries\n",
        "import numpy as np\n",
        "import matplotlib.pyplot as plt\n",
        "import pandas as pd\n",
        "from scipy.stats import mannwhitneyu\n",
        "import csv"
      ],
      "execution_count": 1,
      "outputs": []
    },
    {
      "cell_type": "code",
      "metadata": {
        "id": "6arBlSZPzYHi"
      },
      "source": [
        "# System configuration\n",
        "filepath = '/content/drive/MyDrive/Universitas Indonesia/Akademik/Skripsi/Data/'"
      ],
      "execution_count": 2,
      "outputs": []
    },
    {
      "cell_type": "code",
      "metadata": {
        "id": "IISz8zo3nQQV"
      },
      "source": [
        "# Data index filter\n",
        "data_skip = [13, 23, 31]\n",
        "anomali_skip = [1, 5 , 6, 8]"
      ],
      "execution_count": 3,
      "outputs": []
    },
    {
      "cell_type": "code",
      "metadata": {
        "id": "XVaQoTTPzZg6"
      },
      "source": [
        "# Import DVH data\n",
        "# Option 1 (normal data)\n",
        "data = pd.read_csv(filepath + 'data_dvh.csv').to_numpy().astype(np.float32)\n",
        "anomali = pd.read_csv(filepath + 'anomali_dvh.csv').to_numpy().astype(np.float32)\n",
        "features = ['Body_D2', 'Body_D50', 'Body_D98', 'LungL_D2', 'LungL_D50', 'LungL_D98', 'PTV_D2', 'PTV_D50', 'PTV_D98', 'LungR_D2', 'LungR_D50', 'LungR_D98', 'SpinalCord_D2', 'SpinalCord_D50', 'SpinalCord_D98', 'Heart_D2', 'Heart_D50', 'Heart_D98']\n",
        "\n",
        "# Option 2 (refined data)\n",
        "# data = pd.read_csv(filepath + 'data_dvh.csv', skiprows=data_skip).to_numpy().astype(np.float32)\n",
        "# anomali = pd.read_csv(filepath + 'anomali_dvh.csv', skiprows=anomali_skip).to_numpy().astype(np.float32)\n",
        "# features = ['Body_D2', 'Body_D50', 'Body_D98', 'LungL_D2', 'LungL_D50', 'LungL_D98', 'PTV_D2', 'PTV_D50', 'PTV_D98', 'LungR_D2', 'LungR_D50', 'LungR_D98', 'SpinalCord_D2', 'SpinalCord_D50', 'SpinalCord_D98', 'Heart_D2', 'Heart_D50', 'Heart_D98']"
      ],
      "execution_count": 4,
      "outputs": []
    },
    {
      "cell_type": "code",
      "source": [
        "# Extract data shape\n",
        "data_n_samples, data_n_features = data.shape\n",
        "anomali_n_samples, anomali_n_features = anomali.shape\n",
        "\n",
        "# Print data shape\n",
        "print(data.shape)\n",
        "print(anomali.shape)"
      ],
      "metadata": {
        "colab": {
          "base_uri": "https://localhost:8080/"
        },
        "id": "mb8AX46qb0H6",
        "outputId": "722c86e0-4c87-4ec0-d180-b06aa7f764ba"
      },
      "execution_count": 5,
      "outputs": [
        {
          "output_type": "stream",
          "name": "stdout",
          "text": [
            "(34, 18)\n",
            "(10, 18)\n"
          ]
        }
      ]
    },
    {
      "cell_type": "code",
      "metadata": {
        "colab": {
          "base_uri": "https://localhost:8080/"
        },
        "id": "4yBzuu18zyBq",
        "outputId": "07531174-6b27-4941-adf0-d19727da4560"
      },
      "source": [
        "# Count and calculate statistically significant different feature distribution between normal (optimal) and anomaly (suboptimal) data\n",
        "count = 0\n",
        "dvh_statistics = []\n",
        "for n in range(data_n_features):\n",
        "  stat, p = mannwhitneyu(data[:, n], anomali[:,n])\n",
        "  if p < 0.05:\n",
        "    print(f'{features[n]} {p:.4f} || Data: {np.mean(data[:,n]):.4f}±{np.std(data[:,n]):.4f} Anom: {np.mean(anomali[:,n]):.4f}±{np.std(anomali[:,n]):.4f}')\n",
        "    dvh_statistics.append([features[n], np.mean(data[:,n]), np.std(data[:,n]), np.mean(anomali[:,n]), np.std(anomali[:,n]), p])\n",
        "    count += 1\n",
        "print(f'{count} out of {data_n_features} different significantly')"
      ],
      "execution_count": 6,
      "outputs": [
        {
          "output_type": "stream",
          "name": "stdout",
          "text": [
            "Body_D50 0.0000 || Data: 0.0087±0.0078 Anom: 0.0628±0.0091\n",
            "Body_D98 0.0000 || Data: 0.0002±0.0001 Anom: 0.0025±0.0004\n",
            "LungL_D2 0.0275 || Data: 0.4981±0.3679 Anom: 0.7978±0.4006\n",
            "PTV_D2 0.0024 || Data: 1.0463±0.0152 Anom: 1.2432±0.2941\n",
            "LungR_D98 0.0019 || Data: 0.0157±0.0212 Anom: 0.0044±0.0027\n",
            "SpinalCord_D50 0.0013 || Data: 0.0784±0.1367 Anom: 0.1354±0.1008\n",
            "SpinalCord_D98 0.0313 || Data: 0.0039±0.0067 Anom: 0.0038±0.0015\n",
            "Heart_D50 0.0226 || Data: 0.0843±0.1042 Anom: 0.1255±0.1428\n",
            "Heart_D98 0.0226 || Data: 0.0154±0.0265 Anom: 0.0056±0.0068\n",
            "9 out of 18 different significantly\n"
          ]
        }
      ]
    },
    {
      "cell_type": "code",
      "metadata": {
        "id": "iHQQeENlOtMO"
      },
      "source": [
        "# Import radiomics data\n",
        "# Option 1 (normal data)\n",
        "data = pd.read_csv(filepath + 'data_radiomics_selected.csv')\n",
        "anomali = pd.read_csv(filepath + 'anomali_radiomics_selected.csv')\n",
        "\n",
        "# Option 2 (refined data)\n",
        "# data = pd.read_csv(filepath + 'data_radiomics_selected.csv', skiprows=data_skip)\n",
        "# anomali = pd.read_csv(filepath + 'anomali_radiomics_selected.csv', skiprows=anomali_skip)"
      ],
      "execution_count": 7,
      "outputs": []
    },
    {
      "cell_type": "code",
      "source": [
        "# Convert data type\n",
        "features = list(data.columns)\n",
        "data = data.to_numpy().astype(np.float32)\n",
        "anomali = anomali.to_numpy().astype(np.float32)\n",
        "\n",
        "# Extract data shape\n",
        "data_n_samples, data_n_features = data.shape\n",
        "anomali_n_samples, anomali_n_features = anomali.shape\n",
        "\n",
        "# Print data shape\n",
        "print(data.shape)\n",
        "print(anomali.shape)"
      ],
      "metadata": {
        "colab": {
          "base_uri": "https://localhost:8080/"
        },
        "id": "ThkpMQq-ckuW",
        "outputId": "965ea3ef-b842-45e1-fd65-470dc8b6f238"
      },
      "execution_count": 8,
      "outputs": [
        {
          "output_type": "stream",
          "name": "stdout",
          "text": [
            "(34, 161)\n",
            "(10, 161)\n"
          ]
        }
      ]
    },
    {
      "cell_type": "code",
      "metadata": {
        "colab": {
          "base_uri": "https://localhost:8080/"
        },
        "id": "x0DDcCmdPmfe",
        "outputId": "cf9d1f5c-0bcf-4fb6-dfb8-f7f9421a928b"
      },
      "source": [
        "# Count and calculate statistically significant different feature distribution between normal (optimal) and anomaly (suboptimal) data\n",
        "count = 0\n",
        "radiomics_statistics = []\n",
        "for n in range(data_n_features):\n",
        "  stat, p = mannwhitneyu(data[:, n], anomali[:,n])\n",
        "  if p < 0.05:\n",
        "    print(f'{features[n]} {p:.4f} || Data: {np.mean(data[:,n]):.4f}±{np.std(data[:,n]):.4f} Anom: {np.mean(anomali[:,n]):.4f}±{np.std(anomali[:,n]):.4f}')\n",
        "    radiomics_statistics.append([features[n], np.mean(data[:,n]), np.std(data[:,n]), np.mean(anomali[:,n]), np.std(anomali[:,n]), p])\n",
        "    count += 1\n",
        "print(f'{count} out of {data_n_features} different significantly')"
      ],
      "execution_count": 9,
      "outputs": [
        {
          "output_type": "stream",
          "name": "stdout",
          "text": [
            "InterquartileRange_PTV 0.0014 || Data: 0.0440±0.0807 Anom: 0.0780±0.0363\n",
            "Kurtosis_PTV 0.0354 || Data: 6.5241±7.5986 Anom: 3.6475±0.8557\n",
            "Maximum_LungL 0.0377 || Data: 0.6710±0.3194 Anom: 0.9148±0.3945\n",
            "MeanAbsoluteDeviation_PTV 0.0008 || Data: 0.0265±0.0461 Anom: 0.0460±0.0212\n",
            "Range_LungL 0.0313 || Data: 0.6603±0.3155 Anom: 0.8787±0.3674\n",
            "Range_PTV 0.0077 || Data: 0.2194±0.1698 Anom: 0.3682±0.1866\n",
            "RobustMeanAbsoluteDeviation_PTV 0.0012 || Data: 0.0188±0.0357 Anom: 0.0325±0.0151\n",
            "Skewness_PTV 0.0097 || Data: -1.2568±0.8718 Anom: -0.5789±0.5894\n",
            "Variance_PTV 0.0011 || Data: 0.0041±0.0188 Anom: 0.0040±0.0030\n",
            "DependenceNonUniformity_SpinalCord 0.0275 || Data: 168.9427±71.2979 Anom: 123.1511±49.2149\n",
            "GrayLevelNonUniformity_SpinalCord 0.0185 || Data: 2418.1177±907.2996 Anom: 1753.6000±552.5427\n",
            "11 out of 161 different significantly\n"
          ]
        }
      ]
    },
    {
      "cell_type": "code",
      "metadata": {
        "colab": {
          "base_uri": "https://localhost:8080/"
        },
        "id": "TL0_ehS6TLhw",
        "outputId": "d3203b82-e9d9-41b6-f29d-1a186a8d974b"
      },
      "source": [
        "# Export statistics test result\n",
        "with open('dvh_statistics.csv', 'w', ) as csv_file:\n",
        "  csv_writer = csv.writer(csv_file, delimiter=',')\n",
        "  for i in range(len(dvh_statistics)):\n",
        "    csv_writer.writerow(dvh_statistics[i])\n",
        "\n",
        "with open('radiomics_statistics.csv', 'w', ) as csv_file:\n",
        "  csv_writer = csv.writer(csv_file, delimiter=',')\n",
        "  for i in range(len(radiomics_statistics)):\n",
        "    csv_writer.writerow(radiomics_statistics[i])\n",
        "\n",
        "print('Data exported!')"
      ],
      "execution_count": 10,
      "outputs": [
        {
          "output_type": "stream",
          "name": "stdout",
          "text": [
            "Data exported!\n"
          ]
        }
      ]
    },
    {
      "cell_type": "code",
      "source": [
        "# Import CI and HI data\n",
        "# Option 1 (normal data)\n",
        "data = pd.read_csv(filepath + 'data_metric.csv').to_numpy().astype(np.float32)\n",
        "anomali = pd.read_csv(filepath + 'anomali_metric.csv').to_numpy().astype(np.float32)\n",
        "\n",
        "# Option 2 (refined data)\n",
        "# data = pd.read_csv(filepath + 'data_metric.csv', skiprows=data_skip).to_numpy().astype(np.float32)\n",
        "# anomali = pd.read_csv(filepath + 'anomali_metric.csv', skiprows=anomali_skip).to_numpy().astype(np.float32)"
      ],
      "metadata": {
        "id": "6dEbDNXkdDYk"
      },
      "execution_count": 11,
      "outputs": []
    },
    {
      "cell_type": "code",
      "metadata": {
        "colab": {
          "base_uri": "https://localhost:8080/"
        },
        "id": "7-RtsBS6AxPI",
        "outputId": "30b4ca4e-e591-40f6-dca5-223d7a8a00ca"
      },
      "source": [
        "# Extract data shape\n",
        "data_n_samples, data_n_features = data.shape\n",
        "anomali_n_samples, anomali_n_features = anomali.shape\n",
        "\n",
        "# Print data shape\n",
        "print(data.shape)\n",
        "print(anomali.shape)"
      ],
      "execution_count": 12,
      "outputs": [
        {
          "output_type": "stream",
          "name": "stdout",
          "text": [
            "(34, 2)\n",
            "(10, 2)\n"
          ]
        }
      ]
    },
    {
      "cell_type": "code",
      "source": [
        "# Count and calculate statistically significant different feature distribution between normal (optimal) and anomaly (suboptimal) data\n",
        "metric_statistics = []\n",
        "features = ['CI', 'HI']\n",
        "\n",
        "for n in range(data_n_features):\n",
        "  stat, p = mannwhitneyu(data[:, n], anomali[:,n])\n",
        "  print(f'{features[n]} {p:.4f} || Data: {np.mean(data[:,n]):.4f}±{np.std(data[:,n]):.4f} Anom: {np.mean(anomali[:,n]):.4f}±{np.std(anomali[:,n]):.4f}')\n",
        "  metric_statistics.append([features[n], np.mean(data[:,n]), np.std(data[:,n]), np.mean(anomali[:,n]), np.std(anomali[:,n]), p])"
      ],
      "metadata": {
        "colab": {
          "base_uri": "https://localhost:8080/"
        },
        "id": "GTCGDbjmdGKB",
        "outputId": "fa9e9a05-724c-49fb-edd2-331785686971"
      },
      "execution_count": 13,
      "outputs": [
        {
          "output_type": "stream",
          "name": "stdout",
          "text": [
            "CI 0.2552 || Data: 1.2023±0.3245 Anom: 1.4044±1.1540\n",
            "HI 0.0000 || Data: 0.1221±0.1793 Anom: 0.3417±0.0778\n"
          ]
        }
      ]
    },
    {
      "cell_type": "code",
      "source": [
        "# Export statistics test result\n",
        "with open('metric_statistics.csv', 'w', ) as csv_file:\n",
        "  csv_writer = csv.writer(csv_file, delimiter=',')\n",
        "  for i in range(len(metric_statistics)):\n",
        "    csv_writer.writerow(metric_statistics[i])\n",
        "\n",
        "print('Data exported!')"
      ],
      "metadata": {
        "colab": {
          "base_uri": "https://localhost:8080/"
        },
        "id": "8l_sFQ-qdN96",
        "outputId": "3fc8ac99-2073-45e6-d9f6-6732ed9b252a"
      },
      "execution_count": 14,
      "outputs": [
        {
          "output_type": "stream",
          "name": "stdout",
          "text": [
            "Data exported!\n"
          ]
        }
      ]
    },
    {
      "cell_type": "code",
      "metadata": {
        "colab": {
          "base_uri": "https://localhost:8080/",
          "height": 296
        },
        "id": "DNk1rznWIMSw",
        "outputId": "fa6331d8-9bc9-41a7-b78e-4cabde5b16ec"
      },
      "source": [
        "# Plot CI and HI metrics\n",
        "# HI histogram with sliced axis\n",
        "bins = np.linspace(0, 0.5, 20)\n",
        "bins2 = np.linspace(1, 1.25, 10)\n",
        "\n",
        "f,(ax,ax2) = plt.subplots(1,2,sharey=True, facecolor='w', gridspec_kw={'width_ratios': [2, 1]})\n",
        "\n",
        "ax.hist(data[:,1], bins, alpha=0.5, label='Optimal')\n",
        "ax.hist(anomali[:,1], bins, alpha=0.5, label='Suboptimal')\n",
        "ax2.hist(data[:,1], bins2, alpha=0.5, label='Optimal')\n",
        "ax2.hist(anomali[:,1], bins, alpha=0.5, label='Suboptimal')\n",
        "\n",
        "ax.set_xlim(0,0.5)\n",
        "ax2.set_xlim(1,1.25)\n",
        "\n",
        "# hide the spines between ax and ax2\n",
        "ax.spines['right'].set_visible(False)\n",
        "ax2.spines['left'].set_visible(False)\n",
        "ax.yaxis.tick_left()\n",
        "ax2.yaxis.tick_right()\n",
        "\n",
        "d = .015\n",
        "kwargs = dict(transform=ax.transAxes, color='k', clip_on=False)\n",
        "ax.plot((1-d/2,1+d/2), (-d,+d), **kwargs)\n",
        "ax.plot((1-d/2,1+d/2),(1-d,1+d), **kwargs)\n",
        "\n",
        "kwargs.update(transform=ax2.transAxes)\n",
        "ax2.plot((-d,+d), (1-d,1+d), **kwargs)\n",
        "ax2.plot((-d,+d), (-d,+d), **kwargs)\n",
        "\n",
        "f.subplots_adjust(wspace=0.15)\n",
        "\n",
        "ax.set_title('HI Histogram', x=0.75+0.075)\n",
        "ax2.legend()\n",
        "ax.set_xlabel('Homogeneity Index')\n",
        "ax.set_ylabel('Frequency')\n",
        "ax.xaxis.set_label_coords(0.75+0.075, -0.1)\n",
        "plt.show()"
      ],
      "execution_count": 15,
      "outputs": [
        {
          "output_type": "display_data",
          "data": {
            "image/png": "[encoded data removed]",
            "text/plain": [
              "<Figure size 432x288 with 2 Axes>"
            ]
          },
          "metadata": {}
        }
      ]
    },
    {
      "cell_type": "code",
      "metadata": {
        "colab": {
          "base_uri": "https://localhost:8080/",
          "height": 295
        },
        "id": "phBJUL_5N46f",
        "outputId": "52b218f9-9583-4bbb-c10c-8f7afba0026c"
      },
      "source": [
        "# Normal HI histogram\n",
        "f3, ax3 = plt.subplots(facecolor='w')\n",
        "ax3.hist(data[:,1], alpha=0.5, label='Optimal')\n",
        "ax3.hist(anomali[:,1], alpha=0.5, label='Suboptimal')\n",
        "ax3.set_title('HI Histogram')\n",
        "ax3.legend()\n",
        "ax3.set_xlabel('Homogeneity Index')\n",
        "ax3.set_ylabel('Frequency')\n",
        "plt.show()\n",
        "f3.savefig('11_2.png', dpi=1200)"
      ],
      "execution_count": 16,
      "outputs": [
        {
          "output_type": "display_data",
          "data": {
            "image/png": "[encoded data removed]",
            "text/plain": [
              "<Figure size 432x288 with 1 Axes>"
            ]
          },
          "metadata": {}
        }
      ]
    },
    {
      "cell_type": "code",
      "metadata": {
        "colab": {
          "base_uri": "https://localhost:8080/",
          "height": 295
        },
        "id": "pzbD1lLzmH9b",
        "outputId": "cc61c3ee-3791-4ed6-a7fb-f92645723305"
      },
      "source": [
        "# Normal CI histogram\n",
        "f4, ax4 = plt.subplots(facecolor='w')\n",
        "ax4.hist(data[:,0], alpha=0.5, label='Optimal')\n",
        "ax4.hist(anomali[:,0], alpha=0.5, label='Suboptimal')\n",
        "ax4.set_title('CI Histogram')\n",
        "ax4.legend()\n",
        "ax4.set_xlabel('Conformity Index')\n",
        "ax4.set_ylabel('Frequency')\n",
        "plt.show()\n",
        "f4.savefig('11_1.png', dpi=1200)"
      ],
      "execution_count": 17,
      "outputs": [
        {
          "output_type": "display_data",
          "data": {
            "image/png": "[encoded data removed]",
            "text/plain": [
              "<Figure size 432x288 with 1 Axes>"
            ]
          },
          "metadata": {}
        }
      ]
    }
  ]
}